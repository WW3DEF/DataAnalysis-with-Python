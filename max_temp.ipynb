{
 "cells": [
  {
   "cell_type": "code",
   "execution_count": 1,
   "id": "d70eac23-bedf-40d9-9e56-2151367ffb09",
   "metadata": {},
   "outputs": [
    {
     "name": "stderr",
     "output_type": "stream",
     "text": [
      "No artists with labels found to put in legend.  Note that artists whose label start with an underscore are ignored when legend() is called with no argument.\n"
     ]
    },
    {
     "name": "stdout",
     "output_type": "stream",
     "text": [
      "['1907-10-01', '108', '13.5', '7.9', '20.7']\n"
     ]
    },
    {
     "data": {
      "image/png": "[encoded data removed]",
      "text/plain": [
       "<Figure size 432x288 with 1 Axes>"
      ]
     },
     "metadata": {
      "needs_background": "light"
     },
     "output_type": "display_data"
    }
   ],
   "source": [
    "import csv\n",
    "import matplotlib.pyplot as plt\n",
    "\n",
    "f = open('Seoul.csv','r',encoding=\"utf-8\")\n",
    "\n",
    "data = csv.reader(f, delimiter=',')\n",
    "header = next(data)\n",
    "print(header)\n",
    "# result = []\n",
    "# result2 = []\n",
    "month = [[],[],[],[],[],[],[],[],[],[],[],[]]\n",
    "for row in data :\n",
    "    # month = row[0].split('-')[1] # 월(month) 변수\n",
    "    # day = row[0].split('-')[2] # 일(day) 변수\n",
    "    if row[-1] != '':\n",
    "        month[int(row[0].split('-')[1])-1].append(float(row[-1]))\n",
    "        # if month == '01': # 1월달 조건\n",
    "            # result.append(float(row[-1]))\n",
    "        # if month == '08': # 8월달 조건\n",
    "        #     result2.append(float(row[-1]))\n",
    "            \n",
    "plt.title('Histogram of Max Temp') # 제목 (타이틀) 달기\n",
    "# plt.hist(result, bins=100, color=\"red\", label=\"July\") # 히스토그램, bins(데이터갯수), 색상(빨강)\n",
    "# plt.hist(result2, bins=100, color=\"blue\", label=\"Aug\")\n",
    "plt.boxplot(month)\n",
    "plt.legend()\n",
    "plt.show()"
   ]
  },
  {
   "cell_type": "code",
   "execution_count": null,
   "id": "f447ed09-b5ce-4292-a6b7-390d81ab045e",
   "metadata": {},
   "outputs": [],
   "source": []
  }
 ],
 "metadata": {
  "kernelspec": {
   "display_name": "Python 3 (ipykernel)",
   "language": "python",
   "name": "python3"
  },
  "language_info": {
   "codemirror_mode": {
    "name": "ipython",
    "version": 3
   },
   "file_extension": ".py",
   "mimetype": "text/x-python",
   "name": "python",
   "nbconvert_exporter": "python",
   "pygments_lexer": "ipython3",
   "version": "3.9.12"
  }
 },
 "nbformat": 4,
 "nbformat_minor": 5
}
